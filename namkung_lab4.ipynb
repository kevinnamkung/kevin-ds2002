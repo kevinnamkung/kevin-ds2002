{
 "cells": [
  {
   "cell_type": "code",
   "execution_count": 50,
   "metadata": {},
   "outputs": [],
   "source": [
    "import json\n",
    "import requests\n",
    "import pandas\n",
    "import time"
   ]
  },
  {
   "cell_type": "code",
   "execution_count": 3,
   "metadata": {},
   "outputs": [
    {
     "name": "stdout",
     "output_type": "stream",
     "text": [
      "GOOG\n"
     ]
    },
    {
     "data": {
      "text/plain": [
       "'GOOG'"
      ]
     },
     "execution_count": 3,
     "metadata": {},
     "output_type": "execute_result"
    }
   ],
   "source": [
    "stock = input()\n",
    "stock"
   ]
  },
  {
   "cell_type": "code",
   "execution_count": 24,
   "metadata": {},
   "outputs": [
    {
     "name": "stdout",
     "output_type": "stream",
     "text": [
      "{'symbols': 'GOOG'}\n"
     ]
    }
   ],
   "source": [
    "#step 1 set up url where is this enpoint that I want\n",
    "#base url https://query1.finance.yahoo.com/v7/finance/quote\n",
    "urlQuote = 'https://query1.finance.yahoo.com/v7/finance/quote'\n",
    "querystring = {\"symbols\": stock}\n",
    "print(querystring)"
   ]
  },
  {
   "cell_type": "code",
   "execution_count": 25,
   "metadata": {},
   "outputs": [],
   "source": [
    "header_var ={\n",
    "    'User-Agent': 'Mozilla/5.0 (Macintosh; Intel Mac OS X 10_10_1) AppleWebKit/537.36 (KHTML, like Gecko) Chrome/39.0.2171.95 Safari/537.36'}\n",
    "\n",
    "response = requests.request(\"GET\",urlQuote, headers=header_var,params=querystring)"
   ]
  },
  {
   "cell_type": "code",
   "execution_count": 26,
   "metadata": {},
   "outputs": [],
   "source": [
    "stock_json = response.json()"
   ]
  },
  {
   "cell_type": "code",
   "execution_count": 32,
   "metadata": {},
   "outputs": [],
   "source": [
    "#stock_json"
   ]
  },
  {
   "cell_type": "code",
   "execution_count": 28,
   "metadata": {},
   "outputs": [
    {
     "name": "stdout",
     "output_type": "stream",
     "text": [
      "GOOG\n"
     ]
    }
   ],
   "source": [
    "#name ticker\n",
    "if stock_json['quoteResponse']['result']:\n",
    "    name_tick = stock_json['quoteResponse']['result'][0]['symbol']\n",
    "else:\n",
    "    print(\"Name Ticker does not exist\")"
   ]
  },
  {
   "cell_type": "code",
   "execution_count": 10,
   "metadata": {},
   "outputs": [
    {
     "name": "stdout",
     "output_type": "stream",
     "text": [
      "Alphabet Inc.\n"
     ]
    }
   ],
   "source": [
    "#full name\n",
    "if stock_json['quoteResponse']['result']:\n",
    "    full_name = stock_json['quoteResponse']['result'][0]['longName']\n",
    "else:\n",
    "    print(\"Full Name does not exist\")"
   ]
  },
  {
   "cell_type": "code",
   "execution_count": 31,
   "metadata": {},
   "outputs": [],
   "source": [
    "url2=\"https://query1.finance.yahoo.com/v10/finance/quoteSummary/\"\n",
    "query_str = {\"symbol\": stock, \"modules\":\"defaultKeyStatistics\"}\n",
    "\n",
    "response2 = requests.request(\"GET\",url2, headers=header_var,params=query_str)\n",
    "\n",
    "stock_json_key_stat = response2.json()\n",
    "\n",
    "#stock_json_key_stat"
   ]
  },
  {
   "cell_type": "code",
   "execution_count": 29,
   "metadata": {},
   "outputs": [],
   "source": [
    "# profit margins\n",
    "if stock_json['quoteResponse']['result']:\n",
    "    prof_marg = stock_json_key_stat['quoteSummary']['result'][0]['defaultKeyStatistics']['profitMargins']\n",
    "else:\n",
    "    print(\"Profit margins do not exist\")"
   ]
  },
  {
   "cell_type": "code",
   "execution_count": 30,
   "metadata": {},
   "outputs": [],
   "source": [
    "url3=\"https://query1.finance.yahoo.com/v10/finance/quoteSummary/\"\n",
    "query_str = {\"symbol\": stock, \"modules\":\"financialData\"}\n",
    "\n",
    "response3 = requests.request(\"GET\",url3, headers=header_var,params=query_str)\n",
    "\n",
    "stock_json_fin_data = response3.json()\n",
    "\n",
    "#stock_json_fin_data"
   ]
  },
  {
   "cell_type": "code",
   "execution_count": 35,
   "metadata": {},
   "outputs": [],
   "source": [
    "# current price\n",
    "if stock_json_fin_data['quoteSummary']['result']:\n",
    "    curr_price = stock_json_fin_data['quoteSummary']['result'][0]['financialData']['currentPrice']\n",
    "else:\n",
    "    print(\"Current Price does not exist\")"
   ]
  },
  {
   "cell_type": "code",
   "execution_count": 37,
   "metadata": {},
   "outputs": [],
   "source": [
    "# target mean price\n",
    "if stock_json_fin_data['quoteSummary']['result']:\n",
    "    mean_price = stock_json_fin_data['quoteSummary']['result'][0]['financialData']['targetMeanPrice']\n",
    "else:\n",
    "    print(\"Target Mean Price does not exist\")"
   ]
  },
  {
   "cell_type": "code",
   "execution_count": 39,
   "metadata": {},
   "outputs": [],
   "source": [
    "# cash on hand\n",
    "if stock_json_fin_data['quoteSummary']['result']:\n",
    "    cash_on_hand = stock_json_fin_data['quoteSummary']['result'][0]['financialData']['totalCash']\\\n",
    "else:\n",
    "    print(\"Cash on hand does not exist\")"
   ]
  },
  {
   "cell_type": "code",
   "execution_count": 60,
   "metadata": {},
   "outputs": [],
   "source": [
    "#date\n",
    "if stock_json['quoteResponse']['result']:\n",
    "    date = stock_json['quoteResponse']['result'][0]['regularMarketTime']\n",
    "    date_pulled = time.strftime(\"%Y-%m-%d %H:%M:%S\", time.gmtime(date)) \n",
    "else:\n",
    "    print(\"Date does not exist\")"
   ]
  },
  {
   "cell_type": "code",
   "execution_count": 61,
   "metadata": {},
   "outputs": [],
   "source": [
    "data = {\n",
    "    'Stats' : [\n",
    "        {'Date' : date_pulled},\n",
    "        {'Name Ticker' : name_tick},\n",
    "        {'Full Name' : full_name},\n",
    "        {'Profit Margins' : prof_marg},\n",
    "        {'Current Price' : curr_price},\n",
    "        {'Target Mean Price' : mean_price},\n",
    "        {'Cash on Hand' : cash_on_hand}, \n",
    "    ]\n",
    "}\n",
    "\n",
    "json_str = json.dumps(data)"
   ]
  },
  {
   "cell_type": "code",
   "execution_count": 62,
   "metadata": {},
   "outputs": [
    {
     "name": "stdout",
     "output_type": "stream",
     "text": [
      "{\"Stats\": [{\"Date\": \"2022-10-14 20:00:03\"}, {\"Name Ticker\": \"GOOG\"}, {\"Full Name\": \"Alphabet Inc.\"}, {\"Profit Margins\": {\"raw\": 0.25892, \"fmt\": \"25.89%\"}}, {\"Current Price\": {\"raw\": 97.18, \"fmt\": \"97.18\"}}, {\"Target Mean Price\": {\"raw\": 148.95, \"fmt\": \"148.95\"}}, {\"Cash on Hand\": {\"raw\": 124997001216, \"fmt\": \"125B\", \"longFmt\": \"124,997,001,216\"}}]}\n"
     ]
    }
   ],
   "source": [
    "print(json_str)"
   ]
  },
  {
   "cell_type": "code",
   "execution_count": 63,
   "metadata": {},
   "outputs": [],
   "source": [
    "with open('json_data.json','w') as outfile:\n",
    "    json.dump(json_str, outfile)"
   ]
  },
  {
   "cell_type": "code",
   "execution_count": null,
   "metadata": {},
   "outputs": [],
   "source": []
  }
 ],
 "metadata": {
  "kernelspec": {
   "display_name": "Python 3",
   "language": "python",
   "name": "python3"
  },
  "language_info": {
   "codemirror_mode": {
    "name": "ipython",
    "version": 3
   },
   "file_extension": ".py",
   "mimetype": "text/x-python",
   "name": "python",
   "nbconvert_exporter": "python",
   "pygments_lexer": "ipython3",
   "version": "3.8.3"
  }
 },
 "nbformat": 4,
 "nbformat_minor": 4
}
